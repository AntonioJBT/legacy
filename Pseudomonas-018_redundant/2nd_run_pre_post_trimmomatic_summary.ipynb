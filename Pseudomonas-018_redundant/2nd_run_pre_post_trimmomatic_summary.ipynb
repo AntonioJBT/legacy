{
 "metadata": {
  "name": ""
 },
 "nbformat": 3,
 "nbformat_minor": 0,
 "worksheets": [
  {
   "cells": [
    {
     "cell_type": "code",
     "collapsed": false,
     "input": [
      "cd /ifs/projects/proj018/runs_second_round.dir/readQC_processed.dir/"
     ],
     "language": "python",
     "metadata": {},
     "outputs": [
      {
       "output_type": "stream",
       "stream": "stdout",
       "text": [
        "/ifs/projects/proj018/runs_second_round.dir/readQC_processed.dir\n"
       ]
      }
     ],
     "prompt_number": 1
    },
    {
     "cell_type": "code",
     "collapsed": false,
     "input": [
      "pwd"
     ],
     "language": "python",
     "metadata": {},
     "outputs": [
      {
       "metadata": {},
       "output_type": "pyout",
       "prompt_number": 2,
       "text": [
        "u'/ifs/projects/proj018/runs_second_round.dir/readQC_processed.dir'"
       ]
      }
     ],
     "prompt_number": 2
    },
    {
     "cell_type": "code",
     "collapsed": false,
     "input": [
      "from pandas import *\n",
      "from numpy import *\n",
      "import matplotlib as matplotlib\n",
      "from matplotlib import *\n",
      "from matplotlib import pyplot\n",
      "#from matplotlib import pyplot as plt \n",
      "import csv, sqlite3, sys"
     ],
     "language": "python",
     "metadata": {},
     "outputs": [],
     "prompt_number": 3
    },
    {
     "cell_type": "code",
     "collapsed": false,
     "input": [
      "print pandas.__version__\n",
      "print numpy.__version__\n",
      "print matplotlib.__version__"
     ],
     "language": "python",
     "metadata": {},
     "outputs": [
      {
       "output_type": "stream",
       "stream": "stdout",
       "text": [
        "0.15.2\n",
        "1.9.1\n",
        "1.4.2\n"
       ]
      }
     ],
     "prompt_number": 4
    },
    {
     "cell_type": "code",
     "collapsed": false,
     "input": [
      "pandas.set_option('display.mpl_style', 'default') # Better looking graphs\n",
      "#figsize(20, 10)\n",
      "matplotlib.rc('xtick', labelsize=12) \n",
      "matplotlib.rc('ytick', labelsize=12)\n",
      "#font = {'family' : 'normal', 'weight' : 'bold', 'size' : 12}\n",
      "#matplotlib.rc('font', **font)"
     ],
     "language": "python",
     "metadata": {},
     "outputs": [],
     "prompt_number": 5
    },
    {
     "cell_type": "code",
     "collapsed": false,
     "input": [
      "!zcat status_summary.tsv.gz | head"
     ],
     "language": "python",
     "metadata": {},
     "outputs": [
      {
       "output_type": "stream",
       "stream": "stdout",
       "text": [
        "track\tfilename\tBasic Statistics\tPer base sequence quality\tPer sequence quality scores\tPer base sequence content\tPer base GC content\tPer sequence GC content\tPer base N content\tSequence Length Distribution\tSequence Duplication Levels\tOverrepresented sequences\tKmer Content\r\n",
        "trimmomatic-S02_TP_D7_001_TP_D5_001-1-1\texport/fastqc/trimmomatic-S02_TP_D7_001_TP_D5_001-1-1.fastq.2_fastqc\tpass\tpass\tpass\tpass\tpass\twarn\tpass\twarn\tpass\tpass\twarn\r\n",
        "trimmomatic-S02_TP_D7_001_TP_D5_001-1-1\texport/fastqc/trimmomatic-S02_TP_D7_001_TP_D5_001-1-1.fastq.1_fastqc\tpass\tpass\tpass\tpass\tpass\twarn\tpass\twarn\tpass\tpass\twarn\r\n",
        "trimmomatic-S03_TP_D7_001_TP_D5_002-1-1\texport/fastqc/trimmomatic-S03_TP_D7_001_TP_D5_002-1-1.fastq.1_fastqc\tpass\tpass\tpass\tpass\tpass\twarn\tpass\twarn\tpass\tpass\twarn\r\n",
        "trimmomatic-S03_TP_D7_001_TP_D5_002-1-1\texport/fastqc/trimmomatic-S03_TP_D7_001_TP_D5_002-1-1.fastq.2_fastqc\tpass\tpass\tpass\tpass\tpass\twarn\tpass\twarn\tpass\tpass\twarn\r\n",
        "trimmomatic-S04_TP_D7_001_TP_D5_003-1-1\texport/fastqc/trimmomatic-S04_TP_D7_001_TP_D5_003-1-1.fastq.1_fastqc\tpass\tpass\tpass\tfail\tpass\twarn\tpass\twarn\tpass\tpass\twarn\r\n",
        "trimmomatic-S04_TP_D7_001_TP_D5_003-1-1\texport/fastqc/trimmomatic-S04_TP_D7_001_TP_D5_003-1-1.fastq.2_fastqc\tpass\tpass\tpass\tpass\tpass\twarn\tpass\twarn\tpass\tpass\twarn\r\n",
        "trimmomatic-S05_TP_D7_001_TP_D5_004-1-1\texport/fastqc/trimmomatic-S05_TP_D7_001_TP_D5_004-1-1.fastq.2_fastqc\tpass\tpass\tpass\tfail\tfail\twarn\tpass\twarn\twarn\tpass\twarn\r\n",
        "trimmomatic-S05_TP_D7_001_TP_D5_004-1-1\texport/fastqc/trimmomatic-S05_TP_D7_001_TP_D5_004-1-1.fastq.1_fastqc\tpass\tpass\tpass\tfail\tfail\twarn\tpass\twarn\twarn\tpass\twarn\r\n",
        "trimmomatic-S09_TP_D7_001_TP_D5_005-1-1\texport/fastqc/trimmomatic-S09_TP_D7_001_TP_D5_005-1-1.fastq.2_fastqc\tpass\tpass\tpass\tpass\twarn\twarn\tpass\twarn\tpass\tpass\twarn\r\n"
       ]
      }
     ],
     "prompt_number": 6
    },
    {
     "cell_type": "code",
     "collapsed": false,
     "input": [
      "!zcat basic_statistics_summary.tsv.gz | head"
     ],
     "language": "python",
     "metadata": {},
     "outputs": [
      {
       "output_type": "stream",
       "stream": "stdout",
       "text": [
        "track\tFilename\tFile type\tEncoding\tTotal Sequences\tSequence length\t%GC\r\n",
        "trimmomatic-S02_TP_D7_001_TP_D5_001-1-1\ttrimmomatic-S02_TP_D7_001_TP_D5_001-1-1.fastq.2.gz\tConventional base calls\tSanger / Illumina 1.9\t1703959\t36-125\t65\r\n",
        "trimmomatic-S02_TP_D7_001_TP_D5_001-1-1\ttrimmomatic-S02_TP_D7_001_TP_D5_001-1-1.fastq.1.gz\tConventional base calls\tSanger / Illumina 1.9\t1703959\t36-125\t65\r\n",
        "trimmomatic-S03_TP_D7_001_TP_D5_002-1-1\ttrimmomatic-S03_TP_D7_001_TP_D5_002-1-1.fastq.1.gz\tConventional base calls\tSanger / Illumina 1.9\t1701869\t36-125\t65\r\n",
        "trimmomatic-S03_TP_D7_001_TP_D5_002-1-1\ttrimmomatic-S03_TP_D7_001_TP_D5_002-1-1.fastq.2.gz\tConventional base calls\tSanger / Illumina 1.9\t1701869\t36-125\t65\r\n",
        "trimmomatic-S04_TP_D7_001_TP_D5_003-1-1\ttrimmomatic-S04_TP_D7_001_TP_D5_003-1-1.fastq.1.gz\tConventional base calls\tSanger / Illumina 1.9\t1771287\t36-125\t65\r\n",
        "trimmomatic-S04_TP_D7_001_TP_D5_003-1-1\ttrimmomatic-S04_TP_D7_001_TP_D5_003-1-1.fastq.2.gz\tConventional base calls\tSanger / Illumina 1.9\t1771287\t36-125\t65\r\n",
        "trimmomatic-S05_TP_D7_001_TP_D5_004-1-1\ttrimmomatic-S05_TP_D7_001_TP_D5_004-1-1.fastq.2.gz\tConventional base calls\tSanger / Illumina 1.9\t1520646\t36-125\t65\r\n",
        "trimmomatic-S05_TP_D7_001_TP_D5_004-1-1\ttrimmomatic-S05_TP_D7_001_TP_D5_004-1-1.fastq.1.gz\tConventional base calls\tSanger / Illumina 1.9\t1520646\t36-125\t65\r\n",
        "trimmomatic-S09_TP_D7_001_TP_D5_005-1-1\ttrimmomatic-S09_TP_D7_001_TP_D5_005-1-1.fastq.2.gz\tConventional base calls\tSanger / Illumina 1.9\t1902960\t36-125\t65\r\n"
       ]
      }
     ],
     "prompt_number": 3
    },
    {
     "cell_type": "code",
     "collapsed": false,
     "input": [
      "infile = 'status_summary.tsv.gz'\n",
      "\n",
      "df_status_summary = pandas.io.parsers.read_csv(infile, header=False, sep='\\t', compression='gzip', \\\n",
      "                                    converters={'pass':'pass', 'fail':'fail', 'warn':'warn'}, \\\n",
      "                                    names=['track','filename','BasicStatistics','Perbasesequencequality',\\\n",
      "                                           'Persequencequalityscores','Perbasesequencecontent','PerbaseGCcontent',\\\n",
      "                                           'PersequenceGCcontent','PerbaseNcontent','SequenceLengthDistribution',\\\n",
      "                                           'SequenceDuplicationLevels','Overrepresentedsequences','KmerContent',\\\n",
      "                                           ])\n",
      "df_status_summary.head()"
     ],
     "language": "python",
     "metadata": {},
     "outputs": [
      {
       "html": [
        "<div style=\"max-height:1000px;max-width:1500px;overflow:auto;\">\n",
        "<table border=\"1\" class=\"dataframe\">\n",
        "  <thead>\n",
        "    <tr style=\"text-align: right;\">\n",
        "      <th></th>\n",
        "      <th>track</th>\n",
        "      <th>filename</th>\n",
        "      <th>BasicStatistics</th>\n",
        "      <th>Perbasesequencequality</th>\n",
        "      <th>Persequencequalityscores</th>\n",
        "      <th>Perbasesequencecontent</th>\n",
        "      <th>PerbaseGCcontent</th>\n",
        "      <th>PersequenceGCcontent</th>\n",
        "      <th>PerbaseNcontent</th>\n",
        "      <th>SequenceLengthDistribution</th>\n",
        "      <th>SequenceDuplicationLevels</th>\n",
        "      <th>Overrepresentedsequences</th>\n",
        "      <th>KmerContent</th>\n",
        "    </tr>\n",
        "  </thead>\n",
        "  <tbody>\n",
        "    <tr>\n",
        "      <th>0</th>\n",
        "      <td> trimmomatic-S02_TP_D7_001_TP_D5_001-1-1</td>\n",
        "      <td> export/fastqc/trimmomatic-S02_TP_D7_001_TP_D5_...</td>\n",
        "      <td> pass</td>\n",
        "      <td> pass</td>\n",
        "      <td> pass</td>\n",
        "      <td> pass</td>\n",
        "      <td> pass</td>\n",
        "      <td> warn</td>\n",
        "      <td> pass</td>\n",
        "      <td> warn</td>\n",
        "      <td> pass</td>\n",
        "      <td> pass</td>\n",
        "      <td> warn</td>\n",
        "    </tr>\n",
        "    <tr>\n",
        "      <th>1</th>\n",
        "      <td> trimmomatic-S02_TP_D7_001_TP_D5_001-1-1</td>\n",
        "      <td> export/fastqc/trimmomatic-S02_TP_D7_001_TP_D5_...</td>\n",
        "      <td> pass</td>\n",
        "      <td> pass</td>\n",
        "      <td> pass</td>\n",
        "      <td> pass</td>\n",
        "      <td> pass</td>\n",
        "      <td> warn</td>\n",
        "      <td> pass</td>\n",
        "      <td> warn</td>\n",
        "      <td> pass</td>\n",
        "      <td> pass</td>\n",
        "      <td> warn</td>\n",
        "    </tr>\n",
        "    <tr>\n",
        "      <th>2</th>\n",
        "      <td> trimmomatic-S03_TP_D7_001_TP_D5_002-1-1</td>\n",
        "      <td> export/fastqc/trimmomatic-S03_TP_D7_001_TP_D5_...</td>\n",
        "      <td> pass</td>\n",
        "      <td> pass</td>\n",
        "      <td> pass</td>\n",
        "      <td> pass</td>\n",
        "      <td> pass</td>\n",
        "      <td> warn</td>\n",
        "      <td> pass</td>\n",
        "      <td> warn</td>\n",
        "      <td> pass</td>\n",
        "      <td> pass</td>\n",
        "      <td> warn</td>\n",
        "    </tr>\n",
        "    <tr>\n",
        "      <th>3</th>\n",
        "      <td> trimmomatic-S03_TP_D7_001_TP_D5_002-1-1</td>\n",
        "      <td> export/fastqc/trimmomatic-S03_TP_D7_001_TP_D5_...</td>\n",
        "      <td> pass</td>\n",
        "      <td> pass</td>\n",
        "      <td> pass</td>\n",
        "      <td> pass</td>\n",
        "      <td> pass</td>\n",
        "      <td> warn</td>\n",
        "      <td> pass</td>\n",
        "      <td> warn</td>\n",
        "      <td> pass</td>\n",
        "      <td> pass</td>\n",
        "      <td> warn</td>\n",
        "    </tr>\n",
        "    <tr>\n",
        "      <th>4</th>\n",
        "      <td> trimmomatic-S04_TP_D7_001_TP_D5_003-1-1</td>\n",
        "      <td> export/fastqc/trimmomatic-S04_TP_D7_001_TP_D5_...</td>\n",
        "      <td> pass</td>\n",
        "      <td> pass</td>\n",
        "      <td> pass</td>\n",
        "      <td> fail</td>\n",
        "      <td> pass</td>\n",
        "      <td> warn</td>\n",
        "      <td> pass</td>\n",
        "      <td> warn</td>\n",
        "      <td> pass</td>\n",
        "      <td> pass</td>\n",
        "      <td> warn</td>\n",
        "    </tr>\n",
        "  </tbody>\n",
        "</table>\n",
        "</div>"
       ],
       "metadata": {},
       "output_type": "pyout",
       "prompt_number": 152,
       "text": [
        "                                     track  \\\n",
        "0  trimmomatic-S02_TP_D7_001_TP_D5_001-1-1   \n",
        "1  trimmomatic-S02_TP_D7_001_TP_D5_001-1-1   \n",
        "2  trimmomatic-S03_TP_D7_001_TP_D5_002-1-1   \n",
        "3  trimmomatic-S03_TP_D7_001_TP_D5_002-1-1   \n",
        "4  trimmomatic-S04_TP_D7_001_TP_D5_003-1-1   \n",
        "\n",
        "                                            filename BasicStatistics  \\\n",
        "0  export/fastqc/trimmomatic-S02_TP_D7_001_TP_D5_...            pass   \n",
        "1  export/fastqc/trimmomatic-S02_TP_D7_001_TP_D5_...            pass   \n",
        "2  export/fastqc/trimmomatic-S03_TP_D7_001_TP_D5_...            pass   \n",
        "3  export/fastqc/trimmomatic-S03_TP_D7_001_TP_D5_...            pass   \n",
        "4  export/fastqc/trimmomatic-S04_TP_D7_001_TP_D5_...            pass   \n",
        "\n",
        "  Perbasesequencequality Persequencequalityscores Perbasesequencecontent  \\\n",
        "0                   pass                     pass                   pass   \n",
        "1                   pass                     pass                   pass   \n",
        "2                   pass                     pass                   pass   \n",
        "3                   pass                     pass                   pass   \n",
        "4                   pass                     pass                   fail   \n",
        "\n",
        "  PerbaseGCcontent PersequenceGCcontent PerbaseNcontent  \\\n",
        "0             pass                 warn            pass   \n",
        "1             pass                 warn            pass   \n",
        "2             pass                 warn            pass   \n",
        "3             pass                 warn            pass   \n",
        "4             pass                 warn            pass   \n",
        "\n",
        "  SequenceLengthDistribution SequenceDuplicationLevels  \\\n",
        "0                       warn                      pass   \n",
        "1                       warn                      pass   \n",
        "2                       warn                      pass   \n",
        "3                       warn                      pass   \n",
        "4                       warn                      pass   \n",
        "\n",
        "  Overrepresentedsequences KmerContent  \n",
        "0                     pass        warn  \n",
        "1                     pass        warn  \n",
        "2                     pass        warn  \n",
        "3                     pass        warn  \n",
        "4                     pass        warn  "
       ]
      }
     ],
     "prompt_number": 152
    },
    {
     "cell_type": "code",
     "collapsed": false,
     "input": [
      "print df_status_summary['track'][0][0] == 't'\n",
      "df_status_summary['track'][0][0]"
     ],
     "language": "python",
     "metadata": {},
     "outputs": [
      {
       "output_type": "stream",
       "stream": "stdout",
       "text": [
        "True\n"
       ]
      },
      {
       "metadata": {},
       "output_type": "pyout",
       "prompt_number": 153,
       "text": [
        "'t'"
       ]
      }
     ],
     "prompt_number": 153
    },
    {
     "cell_type": "code",
     "collapsed": false,
     "input": [
      "df_status_summary['Processed'] = df_status_summary.track.str.startswith('t')\n",
      "#df_status_summary['test'] = df_status_summary.track.str.startswith('t')\n",
      "df_status_summary.tail()"
     ],
     "language": "python",
     "metadata": {},
     "outputs": [
      {
       "html": [
        "<div style=\"max-height:1000px;max-width:1500px;overflow:auto;\">\n",
        "<table border=\"1\" class=\"dataframe\">\n",
        "  <thead>\n",
        "    <tr style=\"text-align: right;\">\n",
        "      <th></th>\n",
        "      <th>track</th>\n",
        "      <th>filename</th>\n",
        "      <th>BasicStatistics</th>\n",
        "      <th>Perbasesequencequality</th>\n",
        "      <th>Persequencequalityscores</th>\n",
        "      <th>Perbasesequencecontent</th>\n",
        "      <th>PerbaseGCcontent</th>\n",
        "      <th>PersequenceGCcontent</th>\n",
        "      <th>PerbaseNcontent</th>\n",
        "      <th>SequenceLengthDistribution</th>\n",
        "      <th>SequenceDuplicationLevels</th>\n",
        "      <th>Overrepresentedsequences</th>\n",
        "      <th>KmerContent</th>\n",
        "      <th>Processed</th>\n",
        "    </tr>\n",
        "  </thead>\n",
        "  <tbody>\n",
        "    <tr>\n",
        "      <th>379</th>\n",
        "      <td> S94_TP_D7_009_TP_D5_006-1-1</td>\n",
        "      <td> export/fastqc/S94_TP_D7_009_TP_D5_006-1-1.fast...</td>\n",
        "      <td> pass</td>\n",
        "      <td> pass</td>\n",
        "      <td> pass</td>\n",
        "      <td> pass</td>\n",
        "      <td> pass</td>\n",
        "      <td> warn</td>\n",
        "      <td> pass</td>\n",
        "      <td> pass</td>\n",
        "      <td> pass</td>\n",
        "      <td> warn</td>\n",
        "      <td> fail</td>\n",
        "      <td> False</td>\n",
        "    </tr>\n",
        "    <tr>\n",
        "      <th>380</th>\n",
        "      <td> S95_TP_D7_009_TP_D5_007-1-1</td>\n",
        "      <td> export/fastqc/S95_TP_D7_009_TP_D5_007-1-1.fast...</td>\n",
        "      <td> pass</td>\n",
        "      <td> pass</td>\n",
        "      <td> pass</td>\n",
        "      <td> pass</td>\n",
        "      <td> pass</td>\n",
        "      <td> fail</td>\n",
        "      <td> pass</td>\n",
        "      <td> pass</td>\n",
        "      <td> pass</td>\n",
        "      <td> fail</td>\n",
        "      <td> fail</td>\n",
        "      <td> False</td>\n",
        "    </tr>\n",
        "    <tr>\n",
        "      <th>381</th>\n",
        "      <td> S95_TP_D7_009_TP_D5_007-1-1</td>\n",
        "      <td> export/fastqc/S95_TP_D7_009_TP_D5_007-1-1.fast...</td>\n",
        "      <td> pass</td>\n",
        "      <td> pass</td>\n",
        "      <td> pass</td>\n",
        "      <td> pass</td>\n",
        "      <td> pass</td>\n",
        "      <td> fail</td>\n",
        "      <td> pass</td>\n",
        "      <td> pass</td>\n",
        "      <td> pass</td>\n",
        "      <td> fail</td>\n",
        "      <td> fail</td>\n",
        "      <td> False</td>\n",
        "    </tr>\n",
        "    <tr>\n",
        "      <th>382</th>\n",
        "      <td> S96_TP_D7_009_TP_D5_008-1-1</td>\n",
        "      <td> export/fastqc/S96_TP_D7_009_TP_D5_008-1-1.fast...</td>\n",
        "      <td> pass</td>\n",
        "      <td> pass</td>\n",
        "      <td> pass</td>\n",
        "      <td> pass</td>\n",
        "      <td> warn</td>\n",
        "      <td> fail</td>\n",
        "      <td> pass</td>\n",
        "      <td> pass</td>\n",
        "      <td> pass</td>\n",
        "      <td> warn</td>\n",
        "      <td> fail</td>\n",
        "      <td> False</td>\n",
        "    </tr>\n",
        "    <tr>\n",
        "      <th>383</th>\n",
        "      <td> S96_TP_D7_009_TP_D5_008-1-1</td>\n",
        "      <td> export/fastqc/S96_TP_D7_009_TP_D5_008-1-1.fast...</td>\n",
        "      <td> pass</td>\n",
        "      <td> pass</td>\n",
        "      <td> pass</td>\n",
        "      <td> pass</td>\n",
        "      <td> warn</td>\n",
        "      <td> warn</td>\n",
        "      <td> pass</td>\n",
        "      <td> pass</td>\n",
        "      <td> warn</td>\n",
        "      <td> warn</td>\n",
        "      <td> fail</td>\n",
        "      <td> False</td>\n",
        "    </tr>\n",
        "  </tbody>\n",
        "</table>\n",
        "</div>"
       ],
       "metadata": {},
       "output_type": "pyout",
       "prompt_number": 198,
       "text": [
        "                           track  \\\n",
        "379  S94_TP_D7_009_TP_D5_006-1-1   \n",
        "380  S95_TP_D7_009_TP_D5_007-1-1   \n",
        "381  S95_TP_D7_009_TP_D5_007-1-1   \n",
        "382  S96_TP_D7_009_TP_D5_008-1-1   \n",
        "383  S96_TP_D7_009_TP_D5_008-1-1   \n",
        "\n",
        "                                              filename BasicStatistics  \\\n",
        "379  export/fastqc/S94_TP_D7_009_TP_D5_006-1-1.fast...            pass   \n",
        "380  export/fastqc/S95_TP_D7_009_TP_D5_007-1-1.fast...            pass   \n",
        "381  export/fastqc/S95_TP_D7_009_TP_D5_007-1-1.fast...            pass   \n",
        "382  export/fastqc/S96_TP_D7_009_TP_D5_008-1-1.fast...            pass   \n",
        "383  export/fastqc/S96_TP_D7_009_TP_D5_008-1-1.fast...            pass   \n",
        "\n",
        "    Perbasesequencequality Persequencequalityscores Perbasesequencecontent  \\\n",
        "379                   pass                     pass                   pass   \n",
        "380                   pass                     pass                   pass   \n",
        "381                   pass                     pass                   pass   \n",
        "382                   pass                     pass                   pass   \n",
        "383                   pass                     pass                   pass   \n",
        "\n",
        "    PerbaseGCcontent PersequenceGCcontent PerbaseNcontent  \\\n",
        "379             pass                 warn            pass   \n",
        "380             pass                 fail            pass   \n",
        "381             pass                 fail            pass   \n",
        "382             warn                 fail            pass   \n",
        "383             warn                 warn            pass   \n",
        "\n",
        "    SequenceLengthDistribution SequenceDuplicationLevels  \\\n",
        "379                       pass                      pass   \n",
        "380                       pass                      pass   \n",
        "381                       pass                      pass   \n",
        "382                       pass                      pass   \n",
        "383                       pass                      warn   \n",
        "\n",
        "    Overrepresentedsequences KmerContent Processed  \n",
        "379                     warn        fail     False  \n",
        "380                     fail        fail     False  \n",
        "381                     fail        fail     False  \n",
        "382                     warn        fail     False  \n",
        "383                     warn        fail     False  "
       ]
      }
     ],
     "prompt_number": 198
    },
    {
     "cell_type": "code",
     "collapsed": false,
     "input": [
      "df_status_summary.to_csv('status_summary_modified.tsv', sep='\\t')"
     ],
     "language": "python",
     "metadata": {},
     "outputs": [],
     "prompt_number": 200
    },
    {
     "cell_type": "code",
     "collapsed": false,
     "input": [
      "ls *tsv"
     ],
     "language": "python",
     "metadata": {},
     "outputs": [
      {
       "output_type": "stream",
       "stream": "stdout",
       "text": [
        "status_summary_modified.tsv\r\n"
       ]
      }
     ],
     "prompt_number": 202
    },
    {
     "cell_type": "code",
     "collapsed": false,
     "input": [
      "!head status_summary_modified.tsv"
     ],
     "language": "python",
     "metadata": {},
     "outputs": [
      {
       "output_type": "stream",
       "stream": "stdout",
       "text": [
        "\ttrack\tfilename\tBasicStatistics\tPerbasesequencequality\tPersequencequalityscores\tPerbasesequencecontent\tPerbaseGCcontent\tPersequenceGCcontent\tPerbaseNcontent\tSequenceLengthDistribution\tSequenceDuplicationLevels\tOverrepresentedsequences\tKmerContent\tProcessed\r\n",
        "0\ttrimmomatic-S02_TP_D7_001_TP_D5_001-1-1\texport/fastqc/trimmomatic-S02_TP_D7_001_TP_D5_001-1-1.fastq.2_fastqc\tpass\tpass\tpass\tpass\tpass\twarn\tpass\twarn\tpass\tpass\twarn\tTrue\r\n",
        "1\ttrimmomatic-S02_TP_D7_001_TP_D5_001-1-1\texport/fastqc/trimmomatic-S02_TP_D7_001_TP_D5_001-1-1.fastq.1_fastqc\tpass\tpass\tpass\tpass\tpass\twarn\tpass\twarn\tpass\tpass\twarn\tTrue\r\n",
        "2\ttrimmomatic-S03_TP_D7_001_TP_D5_002-1-1\texport/fastqc/trimmomatic-S03_TP_D7_001_TP_D5_002-1-1.fastq.1_fastqc\tpass\tpass\tpass\tpass\tpass\twarn\tpass\twarn\tpass\tpass\twarn\tTrue\r\n",
        "3\ttrimmomatic-S03_TP_D7_001_TP_D5_002-1-1\texport/fastqc/trimmomatic-S03_TP_D7_001_TP_D5_002-1-1.fastq.2_fastqc\tpass\tpass\tpass\tpass\tpass\twarn\tpass\twarn\tpass\tpass\twarn\tTrue\r\n",
        "4\ttrimmomatic-S04_TP_D7_001_TP_D5_003-1-1\texport/fastqc/trimmomatic-S04_TP_D7_001_TP_D5_003-1-1.fastq.1_fastqc\tpass\tpass\tpass\tfail\tpass\twarn\tpass\twarn\tpass\tpass\twarn\tTrue\r\n",
        "5\ttrimmomatic-S04_TP_D7_001_TP_D5_003-1-1\texport/fastqc/trimmomatic-S04_TP_D7_001_TP_D5_003-1-1.fastq.2_fastqc\tpass\tpass\tpass\tpass\tpass\twarn\tpass\twarn\tpass\tpass\twarn\tTrue\r\n",
        "6\ttrimmomatic-S05_TP_D7_001_TP_D5_004-1-1\texport/fastqc/trimmomatic-S05_TP_D7_001_TP_D5_004-1-1.fastq.2_fastqc\tpass\tpass\tpass\tfail\tfail\twarn\tpass\twarn\twarn\tpass\twarn\tTrue\r\n",
        "7\ttrimmomatic-S05_TP_D7_001_TP_D5_004-1-1\texport/fastqc/trimmomatic-S05_TP_D7_001_TP_D5_004-1-1.fastq.1_fastqc\tpass\tpass\tpass\tfail\tfail\twarn\tpass\twarn\twarn\tpass\twarn\tTrue\r\n",
        "8\ttrimmomatic-S09_TP_D7_001_TP_D5_005-1-1\texport/fastqc/trimmomatic-S09_TP_D7_001_TP_D5_005-1-1.fastq.2_fastqc\tpass\tpass\tpass\tpass\twarn\twarn\tpass\twarn\tpass\tpass\twarn\tTrue\r\n"
       ]
      }
     ],
     "prompt_number": 204
    },
    {
     "cell_type": "code",
     "collapsed": false,
     "input": [
      "for column in df_status_summary.columns:\n",
      "    catego = pandas.Categorical(df_status_summary[column])\n",
      "    df_catego = catego.append[]"
     ],
     "language": "python",
     "metadata": {},
     "outputs": [
      {
       "metadata": {},
       "output_type": "pyout",
       "prompt_number": 187,
       "text": [
        "Index([u'track', u'filename', u'BasicStatistics', u'Perbasesequencequality', u'Persequencequalityscores', u'Perbasesequencecontent', u'PerbaseGCcontent', u'PersequenceGCcontent', u'PerbaseNcontent', u'SequenceLengthDistribution', u'SequenceDuplicationLevels', u'Overrepresentedsequences', u'KmerContent', u'Processed'], dtype='object')"
       ]
      }
     ],
     "prompt_number": 187
    },
    {
     "cell_type": "code",
     "collapsed": false,
     "input": [
      "\n",
      "df_status_summary_2 = pandas.Categorical(df_status_summary['Processed'])\n",
      "#df_status_summary_2 = pandas.Categorical(df_status_summary['BasicStatistics'])\n",
      "\n",
      "\n",
      "\n",
      "'''\n",
      "df_status_summary_2 = pandas.Categorical(df_status_summary['track',\n",
      "                                                           'filename',\n",
      "                                                           'BasicStatistics',\n",
      "                                                           'Perbasesequencequality',\n",
      "                                                           'Persequencequalityscores',\n",
      "                                                           'Perbasesequencecontent',\n",
      "                                                           'PerbaseGCcontent',\n",
      "                                                           'PersequenceGCcontent',\n",
      "                                                           'PerbaseNcontent',\n",
      "                                                           'SequenceLengthDistribution',\n",
      "                                                           'SequenceDuplicationLevels',\n",
      "                                                           'Overrepresentedsequences',\n",
      "                                                           'KmerContent',\n",
      "                                                           'Processed']\n",
      "                                         )\n",
      "'''\n",
      "\n",
      "df_status_summary_2.describe()"
     ],
     "language": "python",
     "metadata": {},
     "outputs": [
      {
       "html": [
        "<div style=\"max-height:1000px;max-width:1500px;overflow:auto;\">\n",
        "<table border=\"1\" class=\"dataframe\">\n",
        "  <thead>\n",
        "    <tr style=\"text-align: right;\">\n",
        "      <th></th>\n",
        "      <th>counts</th>\n",
        "      <th>freqs</th>\n",
        "    </tr>\n",
        "    <tr>\n",
        "      <th>categories</th>\n",
        "      <th></th>\n",
        "      <th></th>\n",
        "    </tr>\n",
        "  </thead>\n",
        "  <tbody>\n",
        "    <tr>\n",
        "      <th>False</th>\n",
        "      <td> 192</td>\n",
        "      <td> 0.5</td>\n",
        "    </tr>\n",
        "    <tr>\n",
        "      <th>True </th>\n",
        "      <td> 192</td>\n",
        "      <td> 0.5</td>\n",
        "    </tr>\n",
        "  </tbody>\n",
        "</table>\n",
        "</div>"
       ],
       "metadata": {},
       "output_type": "pyout",
       "prompt_number": 197,
       "text": [
        "            counts  freqs\n",
        "categories               \n",
        "False          192    0.5\n",
        "True           192    0.5"
       ]
      }
     ],
     "prompt_number": 197
    },
    {
     "cell_type": "code",
     "collapsed": false,
     "input": [
      "list(df_status_summary.columns.values)\n",
      "#strip = list(df_status_summary.columns.values)\n",
      "#strip2 = str(strip).strip().replace(' ','')"
     ],
     "language": "python",
     "metadata": {},
     "outputs": [
      {
       "metadata": {},
       "output_type": "pyout",
       "prompt_number": 162,
       "text": [
        "['track',\n",
        " 'filename',\n",
        " 'BasicStatistics',\n",
        " 'Perbasesequencequality',\n",
        " 'Persequencequalityscores',\n",
        " 'Perbasesequencecontent',\n",
        " 'PerbaseGCcontent',\n",
        " 'PersequenceGCcontent',\n",
        " 'PerbaseNcontent',\n",
        " 'SequenceLengthDistribution',\n",
        " 'SequenceDuplicationLevels',\n",
        " 'Overrepresentedsequences',\n",
        " 'KmerContent',\n",
        " 'Processed']"
       ]
      }
     ],
     "prompt_number": 162
    },
    {
     "cell_type": "code",
     "collapsed": false,
     "input": [
      "%matplotlib inline\n",
      "#df_status_summary.groupby('Processed').BasicStatistics.value_counts().plot(kind='bar')\n",
      "#df_status_summary['Basic Statistics'].value_counts().plot(kind='bar')\n",
      "df_processed_kmers = df_status_summary.groupby('Processed').KmerContent.value_counts()\n",
      "print df_processed_kmers\n",
      "df_processed_kmers.plot(kind='bar')\n"
     ],
     "language": "python",
     "metadata": {},
     "outputs": [
      {
       "output_type": "stream",
       "stream": "stdout",
       "text": [
        "Processed      \n",
        "False      fail    192\n",
        "True       warn    192\n",
        "dtype: int64\n"
       ]
      },
      {
       "metadata": {},
       "output_type": "pyout",
       "prompt_number": 177,
       "text": [
        "<matplotlib.axes._subplots.AxesSubplot at 0x12471f90>"
       ]
      },
      {
       "metadata": {},
       "output_type": "display_data",
       "png": "[encoded data removed]",
       "text": [
        "<matplotlib.figure.Figure at 0x11a53c90>"
       ]
      }
     ],
     "prompt_number": 177
    },
    {
     "cell_type": "code",
     "collapsed": false,
     "input": [
      "%matplotlib inline\n",
      "df_processed_Overrep = df_status_summary.groupby('Processed').Overrepresentedsequences.value_counts()\n",
      "print df_processed_Overrep\n",
      "df_processed_Overrep.plot(kind='bar')"
     ],
     "language": "python",
     "metadata": {},
     "outputs": [
      {
       "output_type": "stream",
       "stream": "stdout",
       "text": [
        "Processed      \n",
        "False      warn     98\n",
        "           fail     92\n",
        "           pass      2\n",
        "True       pass    192\n",
        "dtype: int64\n"
       ]
      },
      {
       "metadata": {},
       "output_type": "pyout",
       "prompt_number": 176,
       "text": [
        "<matplotlib.axes._subplots.AxesSubplot at 0x12185850>"
       ]
      },
      {
       "metadata": {},
       "output_type": "display_data",
       "png": "[encoded data removed]",
       "text": [
        "<matplotlib.figure.Figure at 0x12190790>"
       ]
      }
     ],
     "prompt_number": 176
    }
   ],
   "metadata": {}
  }
 ]
}